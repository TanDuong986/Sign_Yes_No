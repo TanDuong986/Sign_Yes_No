{
  "cells": [
    {
      "cell_type": "markdown",
      "metadata": {
        "id": "J2B70CQDRtrG"
      },
      "source": [
        "# <font color=\"red\">  Sign stop detection </font>\n",
        "we have 100 image each class, so we will create a simple neural to classify each type"
      ]
    },
    {
      "cell_type": "code",
      "execution_count": 86,
      "metadata": {
        "colab": {
          "base_uri": "https://localhost:8080/"
        },
        "id": "5utxqShDRVDW",
        "outputId": "07e9c1c0-ad12-4ac0-dc89-dc89f88a86b5"
      },
      "outputs": [],
      "source": [
        "import cv2\n",
        "import numpy as np\n",
        "from torchvision import transforms \n",
        "import torch.nn as nn  \n",
        "import torch\n",
        "import matplotlib.pyplot as plt\n",
        "import os\n",
        "from PIL import Image\n",
        "from torch.utils.data import DataLoader,Dataset\n"
      ]
    },
    {
      "cell_type": "code",
      "execution_count": 87,
      "metadata": {
        "id": "6RZ17TtsRlFS"
      },
      "outputs": [],
      "source": [
        "valid_extension = ['.jpg','.png','.bmp','.jpeg','.JPG']\n",
        "\n",
        "from sklearn.model_selection import train_test_split\n",
        "\n",
        "# Thử kiểu chia này xem có đạt hiệu quả tốt hơn so với train_test_split không\n",
        "# # initialize a stratified shuffle split object with 80% train and 20% test\n",
        "# split = StratifiedShuffleSplit(n_splits=1, test_size=0.2, random_state=42)\n",
        "\n",
        "# # get the train and test indices from the split object, stratified by class\n",
        "# train_idx, test_idx = next(split.split(X, y))\n",
        "\n",
        "# # get the train and test data and labels based on the indices\n",
        "# X_train, y_train = X[train_idx], y[train_idx]\n",
        "# X_test, y_test = X[test_idx], y[test_idx]\n",
        "\n",
        "\n",
        "def survey(fol_data): # survey about the size of dataset\n",
        "    valid_num = 0\n",
        "    max_h = 0\n",
        "    max_w = 0\n",
        "    min_h =0\n",
        "    min_w =0\n",
        "    average_size = [0,0]\n",
        "    for fol_name in os.listdir(fol_data):\n",
        "        path_fol = os.path.join(fol_data,fol_name)\n",
        "        for file_name in os.listdir(path_fol):\n",
        "            tmp = os.path.splitext(file_name)[-1]\n",
        "            if any(tmp in name for name in valid_extension) and tmp != '':\n",
        "                img = cv2.imread(os.path.join(path_fol,file_name))\n",
        "                if valid_num == 0 :\n",
        "                    min_h = img.shape[0]\n",
        "                    min_w = img.shape[1]\n",
        "                h,w = img.shape[0:2]\n",
        "                average_size[0] += h\n",
        "                average_size[1] += w\n",
        "                if h > max_h : max_h = h\n",
        "                if w > max_w : max_w = w\n",
        "                if h < min_h : min_h = h\n",
        "                if w < min_w : min_w = w\n",
        "                valid_num +=1\n",
        "        average_size = np.array(average_size)\n",
        "        average_size = average_size/ valid_num\n",
        "    print(f'average_size of img is (h,w) {average_size}, max_h and max_w is {max_h,max_w}, min_h and min_w is {min_h,min_w}')\n",
        "# survey(\"sign_data\")\n",
        "\n",
        "class SignDataset(Dataset): # create a class of data, split data\n",
        "    def __init__(self,root_dir,train = True,SIZE = 112,test_size = 0.2,seed = 15) -> None:\n",
        "        \n",
        "        self.root_dir = root_dir\n",
        "        self.size = SIZE\n",
        "        self.image_paths = []\n",
        "        self.labels = []\n",
        "        self.positive_lb = 0\n",
        "        flag = 0\n",
        "        for foler_name in os.listdir(root_dir): # read all image path and label to array\n",
        "            folder_path = os.path.join(root_dir,foler_name)\n",
        "            for filename in os.listdir(folder_path):\n",
        "                tmp = os.path.splitext(filename)[-1]\n",
        "                if any(tmp in name for name in valid_extension) and tmp != '': # be sure that file is image\n",
        "                    self.image_paths.append(os.path.join(folder_path,filename)) # append path file\n",
        "                    if foler_name == 'stop': # based on folder name to add label\n",
        "                        self.labels.append(1)\n",
        "                        self.positive_lb += 1\n",
        "                    else:\n",
        "                        self.labels.append(0)\n",
        "        if self.labels[0] : # specify the flag to slit equal 2 class\n",
        "            flag = self.positive_lb\n",
        "        else:\n",
        "            flag = len(self.labels) - self.positive_lb\n",
        "\n",
        "        np.random.seed(seed) # make random for each class\n",
        "        if train:\n",
        "            self.image_paths, _, self.labels, _ = train_test_split(self.image_paths, self.labels, test_size=test_size, stratify=self.labels)\n",
        "        else:\n",
        "            _,self.image_paths,_,self.labels = train_test_split(self.image_paths, self.labels, test_size=test_size, stratify=self.labels)\n",
        "            \n",
        "    def __len__(self):\n",
        "        return len(self.image_paths)\n",
        "    def statistic(self):\n",
        "        print(f'This dataset has {self.positive_lb} positive samples (sign) and {len(self.image_paths)-self.positive_lb} negative samples')\n",
        "    def __getitem__(self,idx):\n",
        "        image_path = self.image_paths[idx]\n",
        "        label = self.labels[idx]\n",
        "        image = Image.open(image_path).convert('RGB')\n",
        "        composed = transforms.Compose([transforms.Resize((self.size,self.size)),\n",
        "                                       transforms.ToTensor(), # devide all pixel for 255 then reshape to channel*heigh*width\n",
        "                                       transforms.Normalize((0.5, 0.5, 0.5), (0.5, 0.5, 0.5))]) # take (Tensor - 0.5)/0.5 with each channel\n",
        "        image = composed(image)\n",
        "        return image,label\n",
        "\n",
        "def pp(img_path,size = 112):\n",
        "  img = Image.open(img_path).convert('RGB')\n",
        "  composed = transforms.Compose([transforms.Resize((size,size)),\n",
        "                                       transforms.ToTensor(), # devide all pixel for 255 then reshape to channel*heigh*width\n",
        "                                       transforms.Normalize((0.5, 0.5, 0.5), (0.5, 0.5, 0.5))]) # take (Tensor - 0.5)/0.5 with each channel\n",
        "  img = composed(img)\n",
        "  img = torch.unsqueeze(img,dim=0)\n",
        "  return img\n",
        "\n",
        "def convert_Tensor2tensor(input):\n",
        "    cn1,cn2,cn3 = input[0:3]\n",
        "    c,h,w = input.shape[0:3]\n",
        "    cnnew = torch.zeros((h,w,c))\n",
        "    cnnew[:,:,0]=cn1\n",
        "    cnnew[:,:,1]=cn2\n",
        "    cnnew[:,:,2]=cn3\n",
        "    return cnnew\n",
        "\n",
        "def acc_fn(ytrue,yprd):\n",
        "    correct = torch.eq(ytrue, yprd).sum().item()\n",
        "    acc = (correct/len(yprd))*100\n",
        "    return acc"
      ]
    },
    {
      "cell_type": "code",
      "execution_count": 88,
      "metadata": {
        "colab": {
          "base_uri": "https://localhost:8080/"
        },
        "id": "_5UmNO3FUNUC",
        "outputId": "9e7a9b5b-dcf9-423b-84ef-7db85de2fb29"
      },
      "outputs": [],
      "source": [
        "# survey('/content/t_drive/MyDrive/data_hoc_ML/sign_data')"
      ]
    },
    {
      "cell_type": "markdown",
      "metadata": {
        "id": "9OSbxJmvRqrF"
      },
      "source": [
        "`__get__` giup truy cap vao cac phan tu cua object ma khong can goi ham <br>\n",
        "Vd: `dataset = CustomData('path_data)`\n",
        "\n",
        "`dataset[4]` : return image and label of data in index 4"
      ]
    },
    {
      "cell_type": "code",
      "execution_count": 89,
      "metadata": {
        "id": "p9A5d5izTRj1"
      },
      "outputs": [],
      "source": [
        "class cnn_sign(nn.Module):\n",
        "    def __init__(self,filter1 = 6, filter2 = 8,filter3 = 12) -> None:\n",
        "        super(cnn_sign,self).__init__()\n",
        "        self.conv_pine = nn.Sequential(nn.Conv2d(3,filter1,kernel_size = 3, padding  =1),\n",
        "                                       nn.ReLU(inplace = True),\n",
        "                                       nn.MaxPool2d(kernel_size=2,stride=2),\n",
        "                                       \n",
        "                                       nn.Conv2d(filter1,filter2,kernel_size = 3,padding=1),\n",
        "                                       nn.ReLU(inplace =True),\n",
        "                                       nn. MaxPool2d(kernel_size = 2,stride =2),\n",
        "                                       \n",
        "                                       nn.Conv2d(filter2,filter3,kernel_size=3),\n",
        "                                       nn.MaxPool2d(kernel_size=2,stride=2))\n",
        "        self.clf = nn.Sequential(nn.Linear(filter3*13*13,1),\n",
        "                                 nn.Sigmoid())\n",
        "    def forward(self,x):\n",
        "        x = self.conv_pine(x)\n",
        "        x = x.view(x.size(0),-1)\n",
        "        x = self.clf(x)\n",
        "        return x"
      ]
    },
    {
      "attachments": {},
      "cell_type": "markdown",
      "metadata": {},
      "source": [
        "generate model and visualize"
      ]
    },
    {
      "cell_type": "code",
      "execution_count": 90,
      "metadata": {
        "colab": {
          "base_uri": "https://localhost:8080/"
        },
        "id": "5fYd_lLzZXOv",
        "outputId": "7217e618-e638-4084-a622-4d7da14bdcd3"
      },
      "outputs": [
        {
          "name": "stdout",
          "output_type": "stream",
          "text": [
            "----------------------------------------------------------------\n",
            "        Layer (type)               Output Shape         Param #\n",
            "================================================================\n",
            "            Conv2d-1          [-1, 6, 112, 112]             168\n",
            "              ReLU-2          [-1, 6, 112, 112]               0\n",
            "         MaxPool2d-3            [-1, 6, 56, 56]               0\n",
            "            Conv2d-4            [-1, 8, 56, 56]             440\n",
            "              ReLU-5            [-1, 8, 56, 56]               0\n",
            "         MaxPool2d-6            [-1, 8, 28, 28]               0\n",
            "            Conv2d-7           [-1, 12, 26, 26]             876\n",
            "         MaxPool2d-8           [-1, 12, 13, 13]               0\n",
            "            Linear-9                    [-1, 1]           2,029\n",
            "          Sigmoid-10                    [-1, 1]               0\n",
            "================================================================\n",
            "Total params: 3,513\n",
            "Trainable params: 3,513\n",
            "Non-trainable params: 0\n",
            "----------------------------------------------------------------\n",
            "Input size (MB): 0.14\n",
            "Forward/backward pass size (MB): 1.80\n",
            "Params size (MB): 0.01\n",
            "Estimated Total Size (MB): 1.96\n",
            "----------------------------------------------------------------\n"
          ]
        }
      ],
      "source": [
        "model = cnn_sign().to('cuda')\n",
        "from torchsummary import summary\n",
        "summary(model,(3,112,112))"
      ]
    },
    {
      "attachments": {},
      "cell_type": "markdown",
      "metadata": {},
      "source": [
        "preparing data"
      ]
    },
    {
      "cell_type": "code",
      "execution_count": 91,
      "metadata": {
        "id": "zWddR3RZSQq-"
      },
      "outputs": [],
      "source": [
        "train_dset = SignDataset('sign_data',True)\n",
        "test_dset = SignDataset('sign_data',False)\n",
        "train_data = DataLoader(train_dset,batch_size=8,shuffle=True)\n",
        "test_data = DataLoader(test_dset,batch_size=16,shuffle=False)"
      ]
    },
    {
      "attachments": {},
      "cell_type": "markdown",
      "metadata": {},
      "source": [
        "create folder to save model"
      ]
    },
    {
      "cell_type": "code",
      "execution_count": 92,
      "metadata": {},
      "outputs": [],
      "source": [
        "from pathlib import Path\n",
        "\n",
        "fol_path = Path(\"Model\")\n",
        "fol_path.mkdir(parents=True,exist_ok=True)"
      ]
    },
    {
      "attachments": {},
      "cell_type": "markdown",
      "metadata": {},
      "source": [
        "## Create pineline for train"
      ]
    },
    {
      "cell_type": "code",
      "execution_count": 93,
      "metadata": {
        "colab": {
          "base_uri": "https://localhost:8080/",
          "height": 693
        },
        "id": "eHjZ-5RtcLjO",
        "outputId": "e5b63dd4-d9cf-4dcd-aa31-ccbfbd2f5b65"
      },
      "outputs": [],
      "source": [
        "import time\n",
        "\n",
        "loss = nn.BCELoss()\n",
        "learning_rate = 0.1\n",
        "\n",
        "optimizer = torch.optim.SGD(model.parameters(),learning_rate)\n",
        "\n",
        "\n",
        "cost_list = []\n",
        "acc_list = []\n",
        "\n",
        "N_test = len(test_dset)\n",
        "def train_model_GPU(n_epochs):\n",
        "  max_acc =0\n",
        "  device = torch.device(\"cuda:0\" if torch.cuda.is_available() else \"cpu\")\n",
        "  model.to(device)\n",
        "  for epoch in range(n_epochs):\n",
        "    COST = 0.0\n",
        "    start_time = time.time()\n",
        "    for x,y in train_data:\n",
        "      model.train()\n",
        "\n",
        "      x = x.to(device)\n",
        "      y = y.to(device)\n",
        "      y_pred = model(x)\n",
        "      y = y.reshape(-1,1).type(torch.float32)\n",
        "      loss_log = loss(y_pred,y)\n",
        "      optimizer.zero_grad()\n",
        "      loss_log.backward()\n",
        "      optimizer.step()\n",
        "      COST += loss_log\n",
        "\n",
        "    epoch_time = time.time() - start_time\n",
        "    cost_list.append(COST)\n",
        "    correct = 0\n",
        "    for x_test,y_test in test_data:\n",
        "      x_test = x_test.to(device)\n",
        "      y_test = y_test.to(device)\n",
        "      z = torch.round(model(x_test))\n",
        "      correct += (z == y_test.reshape(-1,1).type(torch.float32)).sum().item()\n",
        "    accuracy = correct/len(test_dset)\n",
        "    name_model = \"last.pt\"\n",
        "    model_path = fol_path/name_model\n",
        "    torch.save(model.to(\"cpu\"),model_path)\n",
        "    if accuracy > max_acc:\n",
        "      max_acc = accuracy\n",
        "      name_model = \"md_best.pt\"\n",
        "      model_path = fol_path/name_model\n",
        "      torch.save(model.to(\"cpu\"),model_path)\n",
        "    acc_list.append(accuracy)\n",
        "    print(f'correct : {correct}, N_test is {N_test}')\n",
        "    print(f'With GPU mode : epoch {epoch} | loss train is {COST:.3f}, accuracy is {accuracy:.3f}, time one epoch {epoch_time:.5f}\\n')\n",
        "    model.to('cuda')\n",
        "  print(f'best pt is {max_acc}')\n"
      ]
    },
    {
      "cell_type": "code",
      "execution_count": 94,
      "metadata": {},
      "outputs": [
        {
          "name": "stdout",
          "output_type": "stream",
          "text": [
            "correct : 40, N_test is 58\n",
            "With GPU mode : epoch 0 | loss train is 19.793, accuracy is 0.690, time one epoch 8.15536\n",
            "\n",
            "correct : 48, N_test is 58\n",
            "With GPU mode : epoch 1 | loss train is 16.210, accuracy is 0.828, time one epoch 8.20080\n",
            "\n",
            "correct : 41, N_test is 58\n",
            "With GPU mode : epoch 2 | loss train is 10.978, accuracy is 0.707, time one epoch 8.35269\n",
            "\n",
            "correct : 40, N_test is 58\n",
            "With GPU mode : epoch 3 | loss train is 9.095, accuracy is 0.690, time one epoch 8.25516\n",
            "\n",
            "correct : 56, N_test is 58\n",
            "With GPU mode : epoch 4 | loss train is 8.278, accuracy is 0.966, time one epoch 8.19752\n",
            "\n",
            "correct : 52, N_test is 58\n",
            "With GPU mode : epoch 5 | loss train is 5.341, accuracy is 0.897, time one epoch 8.30884\n",
            "\n",
            "correct : 46, N_test is 58\n",
            "With GPU mode : epoch 6 | loss train is 8.767, accuracy is 0.793, time one epoch 8.62153\n",
            "\n",
            "correct : 46, N_test is 58\n",
            "With GPU mode : epoch 7 | loss train is 12.742, accuracy is 0.793, time one epoch 8.25437\n",
            "\n",
            "correct : 54, N_test is 58\n",
            "With GPU mode : epoch 8 | loss train is 7.965, accuracy is 0.931, time one epoch 8.21588\n",
            "\n",
            "correct : 53, N_test is 58\n",
            "With GPU mode : epoch 9 | loss train is 4.216, accuracy is 0.914, time one epoch 8.31059\n",
            "\n",
            "correct : 54, N_test is 58\n",
            "With GPU mode : epoch 10 | loss train is 4.138, accuracy is 0.931, time one epoch 8.26191\n",
            "\n",
            "correct : 56, N_test is 58\n",
            "With GPU mode : epoch 11 | loss train is 4.242, accuracy is 0.966, time one epoch 8.13746\n",
            "\n",
            "correct : 55, N_test is 58\n",
            "With GPU mode : epoch 12 | loss train is 3.420, accuracy is 0.948, time one epoch 8.41040\n",
            "\n",
            "correct : 53, N_test is 58\n",
            "With GPU mode : epoch 13 | loss train is 2.663, accuracy is 0.914, time one epoch 8.11759\n",
            "\n",
            "correct : 55, N_test is 58\n",
            "With GPU mode : epoch 14 | loss train is 2.275, accuracy is 0.948, time one epoch 8.13479\n",
            "\n",
            "correct : 54, N_test is 58\n",
            "With GPU mode : epoch 15 | loss train is 2.592, accuracy is 0.931, time one epoch 8.58317\n",
            "\n",
            "correct : 54, N_test is 58\n",
            "With GPU mode : epoch 16 | loss train is 1.898, accuracy is 0.931, time one epoch 8.09303\n",
            "\n",
            "correct : 54, N_test is 58\n",
            "With GPU mode : epoch 17 | loss train is 2.100, accuracy is 0.931, time one epoch 8.19955\n",
            "\n",
            "correct : 53, N_test is 58\n",
            "With GPU mode : epoch 18 | loss train is 5.002, accuracy is 0.914, time one epoch 9.19168\n",
            "\n",
            "correct : 55, N_test is 58\n",
            "With GPU mode : epoch 19 | loss train is 2.444, accuracy is 0.948, time one epoch 8.19386\n",
            "\n",
            "correct : 50, N_test is 58\n",
            "With GPU mode : epoch 20 | loss train is 4.528, accuracy is 0.862, time one epoch 8.13581\n",
            "\n",
            "correct : 54, N_test is 58\n",
            "With GPU mode : epoch 21 | loss train is 2.522, accuracy is 0.931, time one epoch 8.13767\n",
            "\n",
            "correct : 54, N_test is 58\n",
            "With GPU mode : epoch 22 | loss train is 1.350, accuracy is 0.931, time one epoch 8.18643\n",
            "\n",
            "correct : 54, N_test is 58\n",
            "With GPU mode : epoch 23 | loss train is 0.485, accuracy is 0.931, time one epoch 8.46863\n",
            "\n",
            "correct : 54, N_test is 58\n",
            "With GPU mode : epoch 24 | loss train is 0.697, accuracy is 0.931, time one epoch 8.13297\n",
            "\n",
            "correct : 54, N_test is 58\n",
            "With GPU mode : epoch 25 | loss train is 0.278, accuracy is 0.931, time one epoch 8.30262\n",
            "\n",
            "correct : 54, N_test is 58\n",
            "With GPU mode : epoch 26 | loss train is 0.208, accuracy is 0.931, time one epoch 8.14074\n",
            "\n",
            "correct : 54, N_test is 58\n",
            "With GPU mode : epoch 27 | loss train is 0.225, accuracy is 0.931, time one epoch 8.31008\n",
            "\n",
            "correct : 54, N_test is 58\n",
            "With GPU mode : epoch 28 | loss train is 0.111, accuracy is 0.931, time one epoch 8.29315\n",
            "\n",
            "correct : 54, N_test is 58\n",
            "With GPU mode : epoch 29 | loss train is 0.074, accuracy is 0.931, time one epoch 8.16310\n",
            "\n",
            "correct : 54, N_test is 58\n",
            "With GPU mode : epoch 30 | loss train is 0.064, accuracy is 0.931, time one epoch 8.27129\n",
            "\n",
            "correct : 54, N_test is 58\n",
            "With GPU mode : epoch 31 | loss train is 0.052, accuracy is 0.931, time one epoch 8.36376\n",
            "\n",
            "correct : 54, N_test is 58\n",
            "With GPU mode : epoch 32 | loss train is 0.047, accuracy is 0.931, time one epoch 8.21541\n",
            "\n",
            "correct : 54, N_test is 58\n",
            "With GPU mode : epoch 33 | loss train is 0.043, accuracy is 0.931, time one epoch 8.22215\n",
            "\n",
            "correct : 54, N_test is 58\n",
            "With GPU mode : epoch 34 | loss train is 0.035, accuracy is 0.931, time one epoch 8.17598\n",
            "\n",
            "correct : 54, N_test is 58\n",
            "With GPU mode : epoch 35 | loss train is 0.035, accuracy is 0.931, time one epoch 8.49326\n",
            "\n",
            "correct : 54, N_test is 58\n",
            "With GPU mode : epoch 36 | loss train is 0.030, accuracy is 0.931, time one epoch 8.21107\n",
            "\n",
            "correct : 54, N_test is 58\n",
            "With GPU mode : epoch 37 | loss train is 0.027, accuracy is 0.931, time one epoch 8.25968\n",
            "\n",
            "correct : 54, N_test is 58\n",
            "With GPU mode : epoch 38 | loss train is 0.025, accuracy is 0.931, time one epoch 8.76468\n",
            "\n",
            "correct : 54, N_test is 58\n",
            "With GPU mode : epoch 39 | loss train is 0.023, accuracy is 0.931, time one epoch 8.27792\n",
            "\n",
            "correct : 54, N_test is 58\n",
            "With GPU mode : epoch 40 | loss train is 0.021, accuracy is 0.931, time one epoch 8.21382\n",
            "\n",
            "correct : 54, N_test is 58\n",
            "With GPU mode : epoch 41 | loss train is 0.020, accuracy is 0.931, time one epoch 8.51858\n",
            "\n",
            "correct : 54, N_test is 58\n",
            "With GPU mode : epoch 42 | loss train is 0.019, accuracy is 0.931, time one epoch 8.92448\n",
            "\n",
            "correct : 54, N_test is 58\n",
            "With GPU mode : epoch 43 | loss train is 0.017, accuracy is 0.931, time one epoch 8.70668\n",
            "\n",
            "correct : 54, N_test is 58\n",
            "With GPU mode : epoch 44 | loss train is 0.017, accuracy is 0.931, time one epoch 8.64916\n",
            "\n",
            "correct : 54, N_test is 58\n",
            "With GPU mode : epoch 45 | loss train is 0.015, accuracy is 0.931, time one epoch 8.09854\n",
            "\n",
            "correct : 54, N_test is 58\n",
            "With GPU mode : epoch 46 | loss train is 0.015, accuracy is 0.931, time one epoch 8.58712\n",
            "\n",
            "correct : 54, N_test is 58\n",
            "With GPU mode : epoch 47 | loss train is 0.014, accuracy is 0.931, time one epoch 9.01352\n",
            "\n",
            "correct : 54, N_test is 58\n",
            "With GPU mode : epoch 48 | loss train is 0.013, accuracy is 0.931, time one epoch 8.67646\n",
            "\n",
            "correct : 54, N_test is 58\n",
            "With GPU mode : epoch 49 | loss train is 0.013, accuracy is 0.931, time one epoch 8.56049\n",
            "\n",
            "best pt is 0.9655172413793104\n"
          ]
        }
      ],
      "source": [
        "n_epochs = 50\n",
        "train_model_GPU(n_epochs)"
      ]
    },
    {
      "attachments": {},
      "cell_type": "markdown",
      "metadata": {},
      "source": [
        "## Graph the log of training"
      ]
    },
    {
      "cell_type": "code",
      "execution_count": 95,
      "metadata": {},
      "outputs": [
        {
          "data": {
            "image/png": "[encoded data removed]",
            "text/plain": [
              "<Figure size 640x480 with 2 Axes>"
            ]
          },
          "metadata": {},
          "output_type": "display_data"
        }
      ],
      "source": [
        "cl = torch.tensor(cost_list,device='cpu')\n",
        "al = torch.tensor(acc_list,device='cpu')\n",
        "# Plot the Loss and Accuracy vs Epoch graph\n",
        "with torch.no_grad():\n",
        "    fig, ax1 = plt.subplots()\n",
        "    color = 'tab:red'\n",
        "    ax1.plot(cl, color=color)\n",
        "    ax1.set_xlabel('epoch', color=color)\n",
        "    ax1.set_ylabel('Cost', color=color)\n",
        "    ax1.tick_params(axis='y', color=color)\n",
        "        \n",
        "    ax2 = ax1.twinx()  \n",
        "    color = 'tab:blue'\n",
        "    ax2.set_ylabel('accuracy', color=color) \n",
        "    ax2.set_xlabel('epoch', color=color)\n",
        "    ax2.plot( al, color=color)\n",
        "    ax2.tick_params(axis='y', color=color)\n",
        "    fig.tight_layout()"
      ]
    },
    {
      "attachments": {},
      "cell_type": "markdown",
      "metadata": {},
      "source": [
        "## Validation model with a test dataset folder download from Internet\n"
      ]
    },
    {
      "cell_type": "code",
      "execution_count": 99,
      "metadata": {},
      "outputs": [],
      "source": [
        "# valid_model = cnn_sign(12,4)\n",
        "path_model = \"Model\\\\last.pt\"\n",
        "# valid_model.load_state_dict(torch.load(path_model))\n",
        "\n",
        "valid_model = torch.load(path_model)\n"
      ]
    },
    {
      "attachments": {},
      "cell_type": "markdown",
      "metadata": {},
      "source": [
        "Function for test a folder"
      ]
    },
    {
      "cell_type": "code",
      "execution_count": 100,
      "metadata": {},
      "outputs": [],
      "source": [
        "def valid_prs(path_folder,model,out_path,size = 112):\n",
        "    id = 1\n",
        "    for file_name in os.listdir(path_folder):\n",
        "        tmp = os.path.splitext(file_name)[-1]\n",
        "        if any(tmp in name for name in valid_extension) and tmp != '':\n",
        "            img = Image.open(os.path.join(path_folder,file_name)).convert('RGB')\n",
        "            composed = transforms.Compose([transforms.Resize((size,size)),\n",
        "                                       transforms.ToTensor(), # devide all pixel for 255 then reshape to channel*heigh*width\n",
        "                                       transforms.Normalize((0.5, 0.5, 0.5), (0.5, 0.5, 0.5))]) # take (Tensor - 0.5)/0.5 with each channel\n",
        "            tensor_img = composed(img)\n",
        "            tensor_img = torch.unsqueeze(tensor_img,dim=0)\n",
        "            pred = torch.round(model(tensor_img))\n",
        "            kq = int(torch.squeeze(pred).item())\n",
        "            fol = ('sign' if kq else 'not_sign')\n",
        "            img = img.save(f'{out_path}/{fol}/{str(id)}.jpg')\n",
        "            id+=1\n",
        "\n",
        "valid_prs('test_data',valid_model,'match_image')\n",
        "            "
      ]
    },
    {
      "attachments": {},
      "cell_type": "markdown",
      "metadata": {},
      "source": [
        "Sample of save model weight"
      ]
    },
    {
      "cell_type": "code",
      "execution_count": 101,
      "metadata": {
        "id": "nQpqA-D8c44U"
      },
      "outputs": [],
      "source": [
        "# from pathlib import Path\n",
        "\n",
        "# fol_path = Path(\"Classification\")\n",
        "# fol_path.mkdir(parents=True,exist_ok=True)\n",
        "# name_model = \"Tan_dep_trai.pth\"\n",
        "\n",
        "# model_path = fol_path/name_model\n",
        "\n",
        "# torch.save(model.to(\"cpu\").state_dict(),model_path)"
      ]
    }
  ],
  "metadata": {
    "colab": {
      "provenance": []
    },
    "kernelspec": {
      "display_name": "Python 3",
      "name": "python3"
    },
    "language_info": {
      "codemirror_mode": {
        "name": "ipython",
        "version": 3
      },
      "file_extension": ".py",
      "mimetype": "text/x-python",
      "name": "python",
      "nbconvert_exporter": "python",
      "pygments_lexer": "ipython3",
      "version": "3.9.15"
    }
  },
  "nbformat": 4,
  "nbformat_minor": 0
}
